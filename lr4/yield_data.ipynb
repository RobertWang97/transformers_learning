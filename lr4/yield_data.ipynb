{
 "cells": [
  {
   "cell_type": "code",
   "execution_count": 1,
   "id": "initial_id",
   "metadata": {
    "collapsed": true,
    "ExecuteTime": {
     "end_time": "2024-04-01T10:47:34.774628100Z",
     "start_time": "2024-04-01T10:47:34.205056100Z"
    }
   },
   "outputs": [],
   "source": [
    "import json\n",
    "import numpy as np\n",
    "from tqdm import tqdm\n",
    "from transformers import AutoTokenizer"
   ]
  },
  {
   "cell_type": "code",
   "execution_count": 2,
   "outputs": [],
   "source": [
    "tokenizer = AutoTokenizer.from_pretrained(\"E:\\\\hugging_face\\\\bert-base-chinese\")"
   ],
   "metadata": {
    "collapsed": false,
    "ExecuteTime": {
     "end_time": "2024-04-01T10:47:34.805552500Z",
     "start_time": "2024-04-01T10:47:34.777596100Z"
    }
   },
   "id": "fa8c55e596f4769e"
  },
  {
   "cell_type": "code",
   "execution_count": 3,
   "outputs": [],
   "source": [
    "p_entitys = ['丈夫', '上映时间', '主持人', '主演', '主角', '作曲', '作者', '作词', '出品公司', '出生地', '出生日期',\n",
    "             '创始人', '制片人', '号', '嘉宾', '国籍', '妻子', '字', '导演', '所属专辑', '改编自', '朝代', '歌手',\n",
    "             '母亲', '毕业院校', '民族', '父亲', '祖籍', '编剧', '董事长', '身高', '连载网站']"
   ],
   "metadata": {
    "collapsed": false,
    "ExecuteTime": {
     "end_time": "2024-04-01T10:47:34.837561400Z",
     "start_time": "2024-04-01T10:47:34.808513500Z"
    }
   },
   "id": "1d037b6d3c3f5bae"
  },
  {
   "cell_type": "code",
   "execution_count": 4,
   "outputs": [],
   "source": [
    "max_length = 300"
   ],
   "metadata": {
    "collapsed": false,
    "ExecuteTime": {
     "end_time": "2024-04-01T10:47:34.885743800Z",
     "start_time": "2024-04-01T10:47:34.838581200Z"
    }
   },
   "id": "558bafe6430239d8"
  },
  {
   "cell_type": "code",
   "execution_count": 5,
   "outputs": [
    {
     "name": "stderr",
     "output_type": "stream",
     "text": [
      "100%|██████████| 113613/113613 [00:19<00:00, 5866.86it/s]\n"
     ]
    },
    {
     "name": "stdout",
     "output_type": "stream",
     "text": [
      "(113613, 300) (113613, 32)\n"
     ]
    }
   ],
   "source": [
    "token_list = []\n",
    "p_entity_label_list = []\n",
    "with open('../data/train_data.json', 'r', encoding='utf-8') as f:\n",
    "    data = json.load(f)\n",
    "    for item in tqdm(data):\n",
    "        text = item['text']\n",
    "        new_spo_list = item['new_spo_list']\n",
    "        label = [0.] * len(p_entitys)\n",
    "\n",
    "        for spo in new_spo_list:\n",
    "            s_entity = spo['s']['entity']\n",
    "            p_entity = spo['p']['entity']\n",
    "            o_entity = spo['o']['entity']\n",
    "            label[p_entitys.index(p_entity)] = 1\n",
    "        token = tokenizer.encode(text, add_special_tokens=True, max_length=max_length, truncation=True)\n",
    "        token = token + [0] * (max_length - len(token))\n",
    "        token_list.append((token))\n",
    "        p_entity_label_list.append(label)\n",
    "\n",
    "token_list = np.array(token_list)\n",
    "p_entity_label_list = np.array(p_entity_label_list)\n",
    "print(token_list.shape, p_entity_label_list.shape)"
   ],
   "metadata": {
    "collapsed": false,
    "ExecuteTime": {
     "end_time": "2024-04-01T10:47:56.935703600Z",
     "start_time": "2024-04-01T10:47:34.885743800Z"
    }
   },
   "id": "694ecda5419c69bc"
  },
  {
   "cell_type": "code",
   "execution_count": 6,
   "outputs": [
    {
     "name": "stderr",
     "output_type": "stream",
     "text": [
      "100%|██████████| 17781/17781 [00:02<00:00, 6033.29it/s]\n"
     ]
    }
   ],
   "source": [
    "val_token_list = []\n",
    "val_p_entity_label_list = []\n",
    "with open('../data/valid_data.json', 'r', encoding='utf-8') as f:\n",
    "    data = json.load(f)\n",
    "    for item in tqdm(data):\n",
    "        text = item['text']\n",
    "        new_spo_list = item['new_spo_list']\n",
    "        label = [0.] * len(p_entitys)\n",
    "\n",
    "        for spo in new_spo_list:\n",
    "            s_entity = spo['s']['entity']\n",
    "            p_entity = spo['p']['entity']\n",
    "            o_entity = spo['o']['entity']\n",
    "            label[p_entitys.index(p_entity)] = 1\n",
    "\n",
    "        token = tokenizer.encode(text, add_special_tokens=True, max_length=max_length, truncation=True)\n",
    "        token = token + [0] * (max_length - len(token))\n",
    "        val_token_list.append((token))\n",
    "        val_p_entity_label_list.append(label)\n",
    "val_token_list = np.array(val_token_list)\n",
    "val_p_entity_label_list = np.array(val_p_entity_label_list)"
   ],
   "metadata": {
    "collapsed": false,
    "ExecuteTime": {
     "end_time": "2024-04-01T10:48:00.524109200Z",
     "start_time": "2024-04-01T10:47:56.932711800Z"
    }
   },
   "id": "4226f2d69b3db624"
  },
  {
   "cell_type": "code",
   "execution_count": 7,
   "outputs": [],
   "source": [
    "train_length = len(p_entity_label_list)\n",
    "\n",
    "\n",
    "def generator(batch_size=12):\n",
    "    batch_num = train_length // batch_size\n",
    "    seed = int(np.random.random() * 5217)\n",
    "    np.random.seed(seed);\n",
    "    np.random.shuffle(token_list)\n",
    "    np.random.seed(seed);\n",
    "    np.random.shuffle(p_entity_label_list)\n",
    "    while 1:\n",
    "        for i in range(batch_num):\n",
    "            start = batch_size * i\n",
    "            end = batch_size * (i + 1)\n",
    "            yield token_list[start:end], p_entity_label_list[start:end]"
   ],
   "metadata": {
    "collapsed": false,
    "ExecuteTime": {
     "end_time": "2024-04-01T10:48:00.541160Z",
     "start_time": "2024-04-01T10:48:00.528099200Z"
    }
   },
   "id": "a69d73bcf29d68e0"
  },
  {
   "cell_type": "code",
   "execution_count": 8,
   "outputs": [],
   "source": [
    "import tensorflow as tf\n",
    "\n",
    "\n",
    "class IDCNN(tf.keras.layers.Layer):\n",
    "    def __init__(self, d_model=312, filter_num=128, kernel_size=3, n_layers=4, dilation_rates=[1, 3, 5]):\n",
    "        self.d_model = d_model\n",
    "        self.filter_num = filter_num\n",
    "\n",
    "        self.filter_width = 3\n",
    "        self.kernel_size = kernel_size\n",
    "        self.n_layers = n_layers\n",
    "        self.dilation_rates = dilation_rates\n",
    "        super(IDCNN, self).__init__()\n",
    "\n",
    "    def build(self, input_shape):\n",
    "        self.sequence_length = input_shape[1]\n",
    "        self.input_embedding_conv2d = tf.keras.layers.Conv2D(filters=self.filter_num,\n",
    "                                                             kernel_size=[1, self.filter_width], padding=\"same\")\n",
    "        self.dilation_convs = []\n",
    "        self.layer_norms = []\n",
    "        for i in range(len(self.dilation_rates)):\n",
    "            self.dilation_convs.append(\n",
    "                tf.keras.layers.SeparableConv2D(filters=self.filter_num, kernel_size=[1, self.filter_width],\n",
    "                                                padding=\"same\", dilation_rate=self.dilation_rates[i]))\n",
    "            self.layer_norms.append(tf.keras.layers.LayerNormalization())\n",
    "        self.last_dense = tf.keras.layers.Dense(units=128, activation=tf.nn.relu)\n",
    "        super(IDCNN, self).build(input_shape)\n",
    "\n",
    "    def call(self, inputs):\n",
    "        embedding = inputs\n",
    "        embedding = tf.expand_dims(embedding, axis=1)\n",
    "        embedding = self.input_embedding_conv2d(embedding)\n",
    "\n",
    "        final_out_from_layers = []\n",
    "        total_width_for_last_dim = 0\n",
    "\n",
    "        for i in range(self.n_layers):\n",
    "            for j in range(len(self.dilation_rates)):\n",
    "                embedding = self.dilation_convs[j](embedding)\n",
    "            final_out_from_layers.append(embedding)\n",
    "            total_width_for_last_dim += self.filter_num\n",
    "\n",
    "        final_out = tf.concat(final_out_from_layers, axis=3)\n",
    "        final_out = tf.squeeze(final_out, axis=1)\n",
    "        final_out = tf.keras.layers.Dropout(0.17)(final_out)\n",
    "        final_out = self.last_dense(final_out)\n",
    "\n",
    "        return final_out"
   ],
   "metadata": {
    "collapsed": false,
    "ExecuteTime": {
     "end_time": "2024-04-01T10:48:02.529800300Z",
     "start_time": "2024-04-01T10:48:00.545149700Z"
    }
   },
   "id": "704ba28651ca8c6e"
  },
  {
   "cell_type": "code",
   "execution_count": null,
   "outputs": [
    {
     "name": "stdout",
     "output_type": "stream",
     "text": [
      "INFO:tensorflow:Using MirroredStrategy with devices ('/job:localhost/replica:0/task:0/device:GPU:0', '/job:localhost/replica:0/task:0/device:GPU:1')\n",
      "init\n",
      "init\n",
      "INFO:tensorflow:Reduce to /job:localhost/replica:0/task:0/device:CPU:0 then broadcast to ('/job:localhost/replica:0/task:0/device:CPU:0',).\n",
      "INFO:tensorflow:Reduce to /job:localhost/replica:0/task:0/device:CPU:0 then broadcast to ('/job:localhost/replica:0/task:0/device:CPU:0',).\n",
      "INFO:tensorflow:Reduce to /job:localhost/replica:0/task:0/device:CPU:0 then broadcast to ('/job:localhost/replica:0/task:0/device:CPU:0',).\n",
      "INFO:tensorflow:Reduce to /job:localhost/replica:0/task:0/device:CPU:0 then broadcast to ('/job:localhost/replica:0/task:0/device:CPU:0',).\n",
      "INFO:tensorflow:Reduce to /job:localhost/replica:0/task:0/device:CPU:0 then broadcast to ('/job:localhost/replica:0/task:0/device:CPU:0',).\n",
      "INFO:tensorflow:Reduce to /job:localhost/replica:0/task:0/device:CPU:0 then broadcast to ('/job:localhost/replica:0/task:0/device:CPU:0',).\n",
      "INFO:tensorflow:Reduce to /job:localhost/replica:0/task:0/device:CPU:0 then broadcast to ('/job:localhost/replica:0/task:0/device:CPU:0',).\n",
      "INFO:tensorflow:Reduce to /job:localhost/replica:0/task:0/device:CPU:0 then broadcast to ('/job:localhost/replica:0/task:0/device:CPU:0',).\n",
      "INFO:tensorflow:Reduce to /job:localhost/replica:0/task:0/device:CPU:0 then broadcast to ('/job:localhost/replica:0/task:0/device:CPU:0',).\n",
      "INFO:tensorflow:Reduce to /job:localhost/replica:0/task:0/device:CPU:0 then broadcast to ('/job:localhost/replica:0/task:0/device:CPU:0',).\n",
      "Epoch 1/5\n",
      "INFO:tensorflow:Reduce to /job:localhost/replica:0/task:0/device:GPU:0 then broadcast to ('/job:localhost/replica:0/task:0/device:GPU:0', '/job:localhost/replica:0/task:0/device:GPU:1').\n",
      "INFO:tensorflow:Reduce to /job:localhost/replica:0/task:0/device:GPU:0 then broadcast to ('/job:localhost/replica:0/task:0/device:GPU:0', '/job:localhost/replica:0/task:0/device:GPU:1').\n",
      "INFO:tensorflow:Reduce to /job:localhost/replica:0/task:0/device:GPU:0 then broadcast to ('/job:localhost/replica:0/task:0/device:GPU:0', '/job:localhost/replica:0/task:0/device:GPU:1').\n",
      "INFO:tensorflow:Reduce to /job:localhost/replica:0/task:0/device:GPU:0 then broadcast to ('/job:localhost/replica:0/task:0/device:GPU:0', '/job:localhost/replica:0/task:0/device:GPU:1').\n",
      "INFO:tensorflow:Reduce to /job:localhost/replica:0/task:0/device:GPU:0 then broadcast to ('/job:localhost/replica:0/task:0/device:GPU:0', '/job:localhost/replica:0/task:0/device:GPU:1').\n",
      "INFO:tensorflow:Reduce to /job:localhost/replica:0/task:0/device:GPU:0 then broadcast to ('/job:localhost/replica:0/task:0/device:GPU:0', '/job:localhost/replica:0/task:0/device:GPU:1').\n",
      "INFO:tensorflow:Reduce to /job:localhost/replica:0/task:0/device:GPU:0 then broadcast to ('/job:localhost/replica:0/task:0/device:GPU:0', '/job:localhost/replica:0/task:0/device:GPU:1').\n",
      "INFO:tensorflow:Reduce to /job:localhost/replica:0/task:0/device:GPU:0 then broadcast to ('/job:localhost/replica:0/task:0/device:GPU:0', '/job:localhost/replica:0/task:0/device:GPU:1').\n",
      "INFO:tensorflow:Reduce to /job:localhost/replica:0/task:0/device:GPU:0 then broadcast to ('/job:localhost/replica:0/task:0/device:GPU:0', '/job:localhost/replica:0/task:0/device:GPU:1').\n",
      "INFO:tensorflow:Reduce to /job:localhost/replica:0/task:0/device:GPU:0 then broadcast to ('/job:localhost/replica:0/task:0/device:GPU:0', '/job:localhost/replica:0/task:0/device:GPU:1').\n",
      "443/443 [==============================] - 128s 277ms/step - loss: 0.3162 - accuracy: 0.2432 - val_loss: 0.2761 - val_accuracy: 0.2626\n",
      "Epoch 2/5\n",
      "443/443 [==============================] - 122s 276ms/step - loss: 0.1785 - accuracy: 0.2947 - val_loss: 0.1773 - val_accuracy: 0.2344\n",
      "Epoch 3/5\n",
      "342/443 [======================>.......] - ETA: 26s - loss: 0.1518 - accuracy: 0.3421"
     ]
    }
   ],
   "source": [
    "strategy = tf.distribute.MirroredStrategy(devices=[\"/gpu:0\", \"/gpu:1\"],\n",
    "                                          cross_device_ops=tf.distribute.ReductionToOneDevice())\n",
    "with strategy.scope():\n",
    "    input_token = tf.keras.Input(shape=(300,), dtype='int32', name='input_token')\n",
    "    embedding = tf.keras.layers.Embedding(input_dim=21128, output_dim=256)(input_token)\n",
    "    embedding = IDCNN()(embedding)\n",
    "    embedding = tf.keras.layers.BatchNormalization()(embedding)\n",
    "    embedding = tf.keras.layers.Flatten()(embedding)\n",
    "    embedding = tf.keras.layers.Dropout(0.217)(embedding)\n",
    "    output = tf.keras.layers.Dense(32)(embedding)\n",
    "    model = tf.keras.Model(inputs=input_token, outputs=output)\n",
    "    import os\n",
    "    if os.path.exists('../saver/model.h5'):\n",
    "        model.load_weights('../saver/model.h5')\n",
    "    model.compile(optimizer=tf.keras.optimizers.Adam(2.17e-5), loss=tf.nn.sigmoid_cross_entropy_with_logits,\n",
    "                  metrics=['accuracy'])\n",
    "    batch_size = 256\n",
    "    for i in range(10):\n",
    "        model.fit(generator(batch_size), steps_per_epoch=train_length // batch_size, epochs=5, validation_data=(val_token_list,val_p_entity_label_list))\n",
    "        model.save_weights('../saver/model.h5')('')\n",
    "    "
   ],
   "metadata": {
    "collapsed": false,
    "is_executing": true,
    "ExecuteTime": {
     "start_time": "2024-04-01T10:48:02.535825100Z"
    }
   },
   "id": "578aaae3c2c42c2e"
  },
  {
   "cell_type": "code",
   "execution_count": null,
   "outputs": [],
   "source": [],
   "metadata": {
    "collapsed": false,
    "is_executing": true
   },
   "id": "9349076e077bc913"
  }
 ],
 "metadata": {
  "kernelspec": {
   "display_name": "Python 3",
   "language": "python",
   "name": "python3"
  },
  "language_info": {
   "codemirror_mode": {
    "name": "ipython",
    "version": 2
   },
   "file_extension": ".py",
   "mimetype": "text/x-python",
   "name": "python",
   "nbconvert_exporter": "python",
   "pygments_lexer": "ipython2",
   "version": "2.7.6"
  }
 },
 "nbformat": 4,
 "nbformat_minor": 5
}
