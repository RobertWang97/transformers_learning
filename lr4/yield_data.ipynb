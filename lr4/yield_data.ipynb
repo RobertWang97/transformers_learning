{
 "cells": [
  {
   "cell_type": "code",
   "execution_count": 1,
   "id": "initial_id",
   "metadata": {
    "collapsed": true,
    "ExecuteTime": {
     "end_time": "2024-04-03T11:37:00.854197300Z",
     "start_time": "2024-04-03T11:37:00.269425300Z"
    }
   },
   "outputs": [],
   "source": [
    "import json\n",
    "import numpy as np\n",
    "from tqdm import tqdm\n",
    "from transformers import AutoTokenizer"
   ]
  },
  {
   "cell_type": "code",
   "execution_count": 2,
   "outputs": [],
   "source": [
    "tokenizer = AutoTokenizer.from_pretrained(\"E:\\\\hugging_face\\\\bert-base-chinese\")"
   ],
   "metadata": {
    "collapsed": false,
    "ExecuteTime": {
     "end_time": "2024-04-03T11:37:00.887109900Z",
     "start_time": "2024-04-03T11:37:00.857193200Z"
    }
   },
   "id": "fa8c55e596f4769e"
  },
  {
   "cell_type": "code",
   "execution_count": 3,
   "outputs": [],
   "source": [
    "p_entitys = ['丈夫', '上映时间', '主持人', '主演', '主角', '作曲', '作者', '作词', '出品公司', '出生地', '出生日期',\n",
    "             '创始人', '制片人', '号', '嘉宾', '国籍', '妻子', '字', '导演', '所属专辑', '改编自', '朝代', '歌手',\n",
    "             '母亲', '毕业院校', '民族', '父亲', '祖籍', '编剧', '董事长', '身高', '连载网站']"
   ],
   "metadata": {
    "collapsed": false,
    "ExecuteTime": {
     "end_time": "2024-04-03T11:37:00.933112Z",
     "start_time": "2024-04-03T11:37:00.887109900Z"
    }
   },
   "id": "1d037b6d3c3f5bae"
  },
  {
   "cell_type": "code",
   "execution_count": 4,
   "outputs": [],
   "source": [
    "max_length = 300"
   ],
   "metadata": {
    "collapsed": false,
    "ExecuteTime": {
     "end_time": "2024-04-03T11:37:00.980890900Z",
     "start_time": "2024-04-03T11:37:00.935063400Z"
    }
   },
   "id": "558bafe6430239d8"
  },
  {
   "cell_type": "code",
   "execution_count": 5,
   "outputs": [
    {
     "name": "stderr",
     "output_type": "stream",
     "text": [
      "100%|██████████| 113613/113613 [00:20<00:00, 5460.08it/s]\n"
     ]
    },
    {
     "name": "stdout",
     "output_type": "stream",
     "text": [
      "(113613, 300) (113613, 32)\n"
     ]
    }
   ],
   "source": [
    "token_list = []\n",
    "p_entity_label_list = []\n",
    "with open('../data/train_data.json', 'r', encoding='utf-8') as f:\n",
    "    data = json.load(f)\n",
    "    for item in tqdm(data):\n",
    "        text = item['text']\n",
    "        new_spo_list = item['new_spo_list']\n",
    "        label = [0.] * len(p_entitys)\n",
    "\n",
    "        for spo in new_spo_list:\n",
    "            s_entity = spo['s']['entity']\n",
    "            p_entity = spo['p']['entity']\n",
    "            o_entity = spo['o']['entity']\n",
    "            label[p_entitys.index(p_entity)] = 1\n",
    "        token = tokenizer.encode(text, add_special_tokens=True, max_length=max_length, truncation=True)\n",
    "        token = token + [0] * (max_length - len(token))\n",
    "        token_list.append((token))\n",
    "        p_entity_label_list.append(label)\n",
    "\n",
    "token_list = np.array(token_list)\n",
    "p_entity_label_list = np.array(p_entity_label_list)\n",
    "print(token_list.shape, p_entity_label_list.shape)"
   ],
   "metadata": {
    "collapsed": false,
    "ExecuteTime": {
     "end_time": "2024-04-03T11:37:24.549744400Z",
     "start_time": "2024-04-03T11:37:00.983886500Z"
    }
   },
   "id": "694ecda5419c69bc"
  },
  {
   "cell_type": "code",
   "execution_count": 6,
   "outputs": [
    {
     "name": "stderr",
     "output_type": "stream",
     "text": [
      "100%|██████████| 17781/17781 [00:03<00:00, 5658.70it/s]\n"
     ]
    }
   ],
   "source": [
    "val_token_list = []\n",
    "val_p_entity_label_list = []\n",
    "with open('../data/valid_data.json', 'r', encoding='utf-8') as f:\n",
    "    data = json.load(f)\n",
    "    for item in tqdm(data):\n",
    "        text = item['text']\n",
    "        new_spo_list = item['new_spo_list']\n",
    "        label = [0.] * len(p_entitys)\n",
    "\n",
    "        for spo in new_spo_list:\n",
    "            s_entity = spo['s']['entity']\n",
    "            p_entity = spo['p']['entity']\n",
    "            o_entity = spo['o']['entity']\n",
    "            label[p_entitys.index(p_entity)] = 1\n",
    "\n",
    "        token = tokenizer.encode(text, add_special_tokens=True, max_length=max_length, truncation=True)\n",
    "        token = token + [0] * (max_length - len(token))\n",
    "        val_token_list.append((token))\n",
    "        val_p_entity_label_list.append(label)\n",
    "val_token_list = np.array(val_token_list)\n",
    "val_p_entity_label_list = np.array(val_p_entity_label_list)"
   ],
   "metadata": {
    "collapsed": false,
    "ExecuteTime": {
     "end_time": "2024-04-03T11:37:28.350284300Z",
     "start_time": "2024-04-03T11:37:24.553732600Z"
    }
   },
   "id": "4226f2d69b3db624"
  },
  {
   "cell_type": "code",
   "execution_count": 7,
   "outputs": [],
   "source": [
    "train_length = len(p_entity_label_list)\n",
    "\n",
    "\n",
    "def generator(batch_size=12):\n",
    "    batch_num = train_length // batch_size\n",
    "    seed = int(np.random.random() * 5217)\n",
    "    np.random.seed(seed);\n",
    "    np.random.shuffle(token_list)\n",
    "    np.random.seed(seed);\n",
    "    np.random.shuffle(p_entity_label_list)\n",
    "    while 1:\n",
    "        for i in range(batch_num):\n",
    "            start = batch_size * i\n",
    "            end = batch_size * (i + 1)\n",
    "            yield token_list[start:end], p_entity_label_list[start:end]"
   ],
   "metadata": {
    "collapsed": false,
    "ExecuteTime": {
     "end_time": "2024-04-03T11:37:28.366220400Z",
     "start_time": "2024-04-03T11:37:28.353254100Z"
    }
   },
   "id": "a69d73bcf29d68e0"
  },
  {
   "cell_type": "code",
   "execution_count": 8,
   "outputs": [],
   "source": [
    "import tensorflow as tf\n",
    "\n",
    "\n",
    "class IDCNN(tf.keras.layers.Layer):\n",
    "    def __init__(self, d_model=312, filter_num=128, kernel_size=3, n_layers=4, dilation_rates=[1, 3, 5]):\n",
    "        self.d_model = d_model\n",
    "        self.filter_num = filter_num\n",
    "\n",
    "        self.filter_width = 3\n",
    "        self.kernel_size = kernel_size\n",
    "        self.n_layers = n_layers\n",
    "        self.dilation_rates = dilation_rates\n",
    "        super(IDCNN, self).__init__()\n",
    "\n",
    "    def build(self, input_shape):\n",
    "        self.sequence_length = input_shape[1]\n",
    "        self.input_embedding_conv2d = tf.keras.layers.Conv2D(filters=self.filter_num,\n",
    "                                                             kernel_size=[1, self.filter_width], padding=\"same\")\n",
    "        self.dilation_convs = []\n",
    "        self.layer_norms = []\n",
    "        for i in range(len(self.dilation_rates)):\n",
    "            self.dilation_convs.append(\n",
    "                tf.keras.layers.SeparableConv2D(filters=self.filter_num, kernel_size=[1, self.filter_width],\n",
    "                                                padding=\"same\", dilation_rate=self.dilation_rates[i]))\n",
    "            self.layer_norms.append(tf.keras.layers.LayerNormalization())\n",
    "        self.last_dense = tf.keras.layers.Dense(units=128, activation=tf.nn.relu)\n",
    "        super(IDCNN, self).build(input_shape)\n",
    "\n",
    "    def call(self, inputs):\n",
    "        embedding = inputs\n",
    "        embedding = tf.expand_dims(embedding, axis=1)\n",
    "        embedding = self.input_embedding_conv2d(embedding)\n",
    "\n",
    "        final_out_from_layers = []\n",
    "        total_width_for_last_dim = 0\n",
    "\n",
    "        for i in range(self.n_layers):\n",
    "            for j in range(len(self.dilation_rates)):\n",
    "                embedding = self.dilation_convs[j](embedding)\n",
    "            final_out_from_layers.append(embedding)\n",
    "            total_width_for_last_dim += self.filter_num\n",
    "\n",
    "        final_out = tf.concat(final_out_from_layers, axis=3)\n",
    "        final_out = tf.squeeze(final_out, axis=1)\n",
    "        final_out = tf.keras.layers.Dropout(0.17)(final_out)\n",
    "        final_out = self.last_dense(final_out)\n",
    "\n",
    "        return final_out"
   ],
   "metadata": {
    "collapsed": false,
    "ExecuteTime": {
     "end_time": "2024-04-03T11:37:30.458060300Z",
     "start_time": "2024-04-03T11:37:28.372231Z"
    }
   },
   "id": "704ba28651ca8c6e"
  },
  {
   "cell_type": "code",
   "execution_count": 9,
   "outputs": [
    {
     "name": "stdout",
     "output_type": "stream",
     "text": [
      "INFO:tensorflow:Using MirroredStrategy with devices ('/job:localhost/replica:0/task:0/device:GPU:0', '/job:localhost/replica:0/task:0/device:GPU:1')\n",
      "INFO:tensorflow:Reduce to /job:localhost/replica:0/task:0/device:CPU:0 then broadcast to ('/job:localhost/replica:0/task:0/device:CPU:0',).\n",
      "INFO:tensorflow:Reduce to /job:localhost/replica:0/task:0/device:CPU:0 then broadcast to ('/job:localhost/replica:0/task:0/device:CPU:0',).\n",
      "INFO:tensorflow:Reduce to /job:localhost/replica:0/task:0/device:CPU:0 then broadcast to ('/job:localhost/replica:0/task:0/device:CPU:0',).\n",
      "INFO:tensorflow:Reduce to /job:localhost/replica:0/task:0/device:CPU:0 then broadcast to ('/job:localhost/replica:0/task:0/device:CPU:0',).\n",
      "INFO:tensorflow:Reduce to /job:localhost/replica:0/task:0/device:CPU:0 then broadcast to ('/job:localhost/replica:0/task:0/device:CPU:0',).\n",
      "INFO:tensorflow:Reduce to /job:localhost/replica:0/task:0/device:CPU:0 then broadcast to ('/job:localhost/replica:0/task:0/device:CPU:0',).\n",
      "INFO:tensorflow:Reduce to /job:localhost/replica:0/task:0/device:CPU:0 then broadcast to ('/job:localhost/replica:0/task:0/device:CPU:0',).\n",
      "INFO:tensorflow:Reduce to /job:localhost/replica:0/task:0/device:CPU:0 then broadcast to ('/job:localhost/replica:0/task:0/device:CPU:0',).\n",
      "INFO:tensorflow:Reduce to /job:localhost/replica:0/task:0/device:CPU:0 then broadcast to ('/job:localhost/replica:0/task:0/device:CPU:0',).\n",
      "INFO:tensorflow:Reduce to /job:localhost/replica:0/task:0/device:CPU:0 then broadcast to ('/job:localhost/replica:0/task:0/device:CPU:0',).\n",
      "Epoch 1/5\n",
      "INFO:tensorflow:Reduce to /job:localhost/replica:0/task:0/device:GPU:0 then broadcast to ('/job:localhost/replica:0/task:0/device:GPU:0', '/job:localhost/replica:0/task:0/device:GPU:1').\n",
      "INFO:tensorflow:Reduce to /job:localhost/replica:0/task:0/device:GPU:0 then broadcast to ('/job:localhost/replica:0/task:0/device:GPU:0', '/job:localhost/replica:0/task:0/device:GPU:1').\n",
      "INFO:tensorflow:Reduce to /job:localhost/replica:0/task:0/device:GPU:0 then broadcast to ('/job:localhost/replica:0/task:0/device:GPU:0', '/job:localhost/replica:0/task:0/device:GPU:1').\n",
      "INFO:tensorflow:Reduce to /job:localhost/replica:0/task:0/device:GPU:0 then broadcast to ('/job:localhost/replica:0/task:0/device:GPU:0', '/job:localhost/replica:0/task:0/device:GPU:1').\n",
      "INFO:tensorflow:Reduce to /job:localhost/replica:0/task:0/device:GPU:0 then broadcast to ('/job:localhost/replica:0/task:0/device:GPU:0', '/job:localhost/replica:0/task:0/device:GPU:1').\n",
      "INFO:tensorflow:Reduce to /job:localhost/replica:0/task:0/device:GPU:0 then broadcast to ('/job:localhost/replica:0/task:0/device:GPU:0', '/job:localhost/replica:0/task:0/device:GPU:1').\n",
      "INFO:tensorflow:Reduce to /job:localhost/replica:0/task:0/device:GPU:0 then broadcast to ('/job:localhost/replica:0/task:0/device:GPU:0', '/job:localhost/replica:0/task:0/device:GPU:1').\n",
      "INFO:tensorflow:Reduce to /job:localhost/replica:0/task:0/device:GPU:0 then broadcast to ('/job:localhost/replica:0/task:0/device:GPU:0', '/job:localhost/replica:0/task:0/device:GPU:1').\n",
      "INFO:tensorflow:Reduce to /job:localhost/replica:0/task:0/device:GPU:0 then broadcast to ('/job:localhost/replica:0/task:0/device:GPU:0', '/job:localhost/replica:0/task:0/device:GPU:1').\n",
      "INFO:tensorflow:Reduce to /job:localhost/replica:0/task:0/device:GPU:0 then broadcast to ('/job:localhost/replica:0/task:0/device:GPU:0', '/job:localhost/replica:0/task:0/device:GPU:1').\n",
      "443/443 [==============================] - 113s 241ms/step - loss: 0.0345 - accuracy: 0.6265 - val_loss: 0.0629 - val_accuracy: 0.5712\n",
      "Epoch 2/5\n",
      "443/443 [==============================] - 108s 243ms/step - loss: 0.0344 - accuracy: 0.6262 - val_loss: 0.0633 - val_accuracy: 0.5714\n",
      "Epoch 3/5\n",
      "443/443 [==============================] - 112s 254ms/step - loss: 0.0343 - accuracy: 0.6258 - val_loss: 0.0633 - val_accuracy: 0.5738\n",
      "Epoch 4/5\n",
      "443/443 [==============================] - 126s 285ms/step - loss: 0.0341 - accuracy: 0.6260 - val_loss: 0.0633 - val_accuracy: 0.5707\n",
      "Epoch 5/5\n",
      "443/443 [==============================] - 135s 305ms/step - loss: 0.0340 - accuracy: 0.6274 - val_loss: 0.0634 - val_accuracy: 0.5703\n",
      "Epoch 1/5\n",
      "443/443 [==============================] - 135s 304ms/step - loss: 0.0339 - accuracy: 0.6279 - val_loss: 0.0637 - val_accuracy: 0.5779\n",
      "Epoch 2/5\n",
      "443/443 [==============================] - 136s 308ms/step - loss: 0.0337 - accuracy: 0.6279 - val_loss: 0.0641 - val_accuracy: 0.5794\n",
      "Epoch 3/5\n",
      "443/443 [==============================] - 138s 311ms/step - loss: 0.0336 - accuracy: 0.6276 - val_loss: 0.0645 - val_accuracy: 0.5850\n",
      "Epoch 4/5\n",
      "443/443 [==============================] - 137s 309ms/step - loss: 0.0335 - accuracy: 0.6287 - val_loss: 0.0643 - val_accuracy: 0.5789\n",
      "Epoch 5/5\n",
      "443/443 [==============================] - 138s 312ms/step - loss: 0.0334 - accuracy: 0.6288 - val_loss: 0.0660 - val_accuracy: 0.5821\n",
      "Epoch 1/5\n",
      "443/443 [==============================] - 136s 308ms/step - loss: 0.0333 - accuracy: 0.6299 - val_loss: 0.0654 - val_accuracy: 0.5612\n",
      "Epoch 2/5\n",
      "443/443 [==============================] - 134s 302ms/step - loss: 0.0331 - accuracy: 0.6283 - val_loss: 0.0650 - val_accuracy: 0.5615\n",
      "Epoch 3/5\n",
      "443/443 [==============================] - 137s 308ms/step - loss: 0.0330 - accuracy: 0.6306 - val_loss: 0.0651 - val_accuracy: 0.5654\n",
      "Epoch 4/5\n",
      "443/443 [==============================] - 138s 312ms/step - loss: 0.0329 - accuracy: 0.6310 - val_loss: 0.0670 - val_accuracy: 0.5600\n",
      "Epoch 5/5\n",
      "443/443 [==============================] - 139s 313ms/step - loss: 0.0327 - accuracy: 0.6310 - val_loss: 0.0664 - val_accuracy: 0.5606\n",
      "Epoch 1/5\n",
      "443/443 [==============================] - 138s 311ms/step - loss: 0.0326 - accuracy: 0.6311 - val_loss: 0.0649 - val_accuracy: 0.5819\n",
      "Epoch 2/5\n",
      "443/443 [==============================] - 138s 312ms/step - loss: 0.0325 - accuracy: 0.6326 - val_loss: 0.0651 - val_accuracy: 0.5820\n",
      "Epoch 3/5\n",
      "443/443 [==============================] - 136s 308ms/step - loss: 0.0324 - accuracy: 0.6320 - val_loss: 0.0653 - val_accuracy: 0.5805\n",
      "Epoch 4/5\n",
      "443/443 [==============================] - 134s 302ms/step - loss: 0.0323 - accuracy: 0.6319 - val_loss: 0.0653 - val_accuracy: 0.5835\n",
      "Epoch 5/5\n",
      "443/443 [==============================] - 135s 304ms/step - loss: 0.0322 - accuracy: 0.6330 - val_loss: 0.0656 - val_accuracy: 0.5857\n",
      "Epoch 1/5\n",
      "443/443 [==============================] - 139s 313ms/step - loss: 0.0321 - accuracy: 0.6344 - val_loss: 0.0660 - val_accuracy: 0.5791\n",
      "Epoch 2/5\n",
      "443/443 [==============================] - 134s 303ms/step - loss: 0.0319 - accuracy: 0.6332 - val_loss: 0.0667 - val_accuracy: 0.5797\n",
      "Epoch 3/5\n",
      "443/443 [==============================] - 133s 301ms/step - loss: 0.0318 - accuracy: 0.6336 - val_loss: 0.0663 - val_accuracy: 0.5799\n",
      "Epoch 4/5\n",
      "443/443 [==============================] - 132s 299ms/step - loss: 0.0317 - accuracy: 0.6332 - val_loss: 0.0673 - val_accuracy: 0.5769\n",
      "Epoch 5/5\n",
      "443/443 [==============================] - 116s 262ms/step - loss: 0.0317 - accuracy: 0.6342 - val_loss: 0.0667 - val_accuracy: 0.5844\n",
      "Epoch 1/5\n",
      "443/443 [==============================] - 132s 299ms/step - loss: 0.0315 - accuracy: 0.6354 - val_loss: 0.0666 - val_accuracy: 0.5745\n",
      "Epoch 2/5\n",
      "443/443 [==============================] - 120s 271ms/step - loss: 0.0314 - accuracy: 0.6339 - val_loss: 0.0669 - val_accuracy: 0.5773\n",
      "Epoch 3/5\n",
      "443/443 [==============================] - 129s 291ms/step - loss: 0.0312 - accuracy: 0.6358 - val_loss: 0.0672 - val_accuracy: 0.5758\n",
      "Epoch 4/5\n",
      "443/443 [==============================] - 128s 290ms/step - loss: 0.0311 - accuracy: 0.6353 - val_loss: 0.0681 - val_accuracy: 0.5753\n",
      "Epoch 5/5\n",
      "443/443 [==============================] - 131s 297ms/step - loss: 0.0310 - accuracy: 0.6357 - val_loss: 0.0676 - val_accuracy: 0.5722\n",
      "Epoch 1/5\n",
      "443/443 [==============================] - 133s 301ms/step - loss: 0.0310 - accuracy: 0.6351 - val_loss: 0.0672 - val_accuracy: 0.5780\n",
      "Epoch 2/5\n",
      "443/443 [==============================] - 131s 296ms/step - loss: 0.0308 - accuracy: 0.6357 - val_loss: 0.0683 - val_accuracy: 0.5801\n",
      "Epoch 3/5\n",
      "443/443 [==============================] - 131s 296ms/step - loss: 0.0307 - accuracy: 0.6363 - val_loss: 0.0676 - val_accuracy: 0.5769\n",
      "Epoch 4/5\n",
      "443/443 [==============================] - 130s 293ms/step - loss: 0.0306 - accuracy: 0.6377 - val_loss: 0.0678 - val_accuracy: 0.5779\n",
      "Epoch 5/5\n",
      "443/443 [==============================] - 131s 295ms/step - loss: 0.0305 - accuracy: 0.6357 - val_loss: 0.0686 - val_accuracy: 0.5787\n",
      "Epoch 1/5\n",
      "443/443 [==============================] - 135s 305ms/step - loss: 0.0304 - accuracy: 0.6375 - val_loss: 0.0700 - val_accuracy: 0.5954\n",
      "Epoch 2/5\n",
      "443/443 [==============================] - 135s 306ms/step - loss: 0.0302 - accuracy: 0.6385 - val_loss: 0.0701 - val_accuracy: 0.6023\n",
      "Epoch 3/5\n",
      "443/443 [==============================] - 134s 302ms/step - loss: 0.0302 - accuracy: 0.6371 - val_loss: 0.0693 - val_accuracy: 0.5930\n",
      "Epoch 4/5\n",
      "443/443 [==============================] - 135s 304ms/step - loss: 0.0301 - accuracy: 0.6374 - val_loss: 0.0697 - val_accuracy: 0.5878\n",
      "Epoch 5/5\n",
      "443/443 [==============================] - 136s 307ms/step - loss: 0.0300 - accuracy: 0.6392 - val_loss: 0.0692 - val_accuracy: 0.5877\n",
      "Epoch 1/5\n",
      "443/443 [==============================] - 137s 309ms/step - loss: 0.0299 - accuracy: 0.6393 - val_loss: 0.0691 - val_accuracy: 0.5795\n",
      "Epoch 2/5\n",
      "443/443 [==============================] - 138s 312ms/step - loss: 0.0298 - accuracy: 0.6394 - val_loss: 0.0707 - val_accuracy: 0.5756\n",
      "Epoch 3/5\n",
      "443/443 [==============================] - 140s 316ms/step - loss: 0.0296 - accuracy: 0.6397 - val_loss: 0.0700 - val_accuracy: 0.5768\n",
      "Epoch 4/5\n",
      "443/443 [==============================] - 140s 315ms/step - loss: 0.0295 - accuracy: 0.6390 - val_loss: 0.0694 - val_accuracy: 0.5802\n",
      "Epoch 5/5\n",
      "443/443 [==============================] - 139s 314ms/step - loss: 0.0294 - accuracy: 0.6406 - val_loss: 0.0713 - val_accuracy: 0.5776\n",
      "Epoch 1/5\n",
      "443/443 [==============================] - 136s 306ms/step - loss: 0.0293 - accuracy: 0.6409 - val_loss: 0.0700 - val_accuracy: 0.5844\n",
      "Epoch 2/5\n",
      "443/443 [==============================] - 135s 305ms/step - loss: 0.0292 - accuracy: 0.6397 - val_loss: 0.0705 - val_accuracy: 0.5738\n",
      "Epoch 3/5\n",
      "443/443 [==============================] - 134s 304ms/step - loss: 0.0292 - accuracy: 0.6407 - val_loss: 0.0704 - val_accuracy: 0.5770\n",
      "Epoch 4/5\n",
      "443/443 [==============================] - 135s 306ms/step - loss: 0.0290 - accuracy: 0.6421 - val_loss: 0.0703 - val_accuracy: 0.5775\n",
      "Epoch 5/5\n",
      "443/443 [==============================] - 134s 303ms/step - loss: 0.0289 - accuracy: 0.6429 - val_loss: 0.0718 - val_accuracy: 0.5746\n",
      "Epoch 1/5\n",
      "443/443 [==============================] - 137s 308ms/step - loss: 0.0288 - accuracy: 0.6421 - val_loss: 0.0731 - val_accuracy: 0.5717\n",
      "Epoch 2/5\n",
      "443/443 [==============================] - 136s 308ms/step - loss: 0.0287 - accuracy: 0.6430 - val_loss: 0.0746 - val_accuracy: 0.5823\n",
      "Epoch 3/5\n",
      "443/443 [==============================] - 135s 305ms/step - loss: 0.0286 - accuracy: 0.6445 - val_loss: 0.0755 - val_accuracy: 0.5882\n",
      "Epoch 4/5\n",
      "443/443 [==============================] - 136s 307ms/step - loss: 0.0284 - accuracy: 0.6432 - val_loss: 0.0759 - val_accuracy: 0.5895\n",
      "Epoch 5/5\n",
      "443/443 [==============================] - 133s 301ms/step - loss: 0.0284 - accuracy: 0.6433 - val_loss: 0.0735 - val_accuracy: 0.5899\n",
      "Epoch 1/5\n",
      "443/443 [==============================] - 133s 301ms/step - loss: 0.0283 - accuracy: 0.6442 - val_loss: 0.0737 - val_accuracy: 0.5766\n",
      "Epoch 2/5\n",
      "443/443 [==============================] - 136s 306ms/step - loss: 0.0282 - accuracy: 0.6442 - val_loss: 0.0738 - val_accuracy: 0.5776\n",
      "Epoch 3/5\n",
      "443/443 [==============================] - 134s 304ms/step - loss: 0.0280 - accuracy: 0.6445 - val_loss: 0.0735 - val_accuracy: 0.5772\n",
      "Epoch 4/5\n",
      "443/443 [==============================] - 139s 313ms/step - loss: 0.0279 - accuracy: 0.6445 - val_loss: 0.0752 - val_accuracy: 0.5686\n",
      "Epoch 5/5\n",
      "443/443 [==============================] - 136s 308ms/step - loss: 0.0279 - accuracy: 0.6442 - val_loss: 0.0755 - val_accuracy: 0.5803\n",
      "Epoch 1/5\n",
      "443/443 [==============================] - 132s 297ms/step - loss: 0.0277 - accuracy: 0.6461 - val_loss: 0.0742 - val_accuracy: 0.5996\n",
      "Epoch 2/5\n",
      "443/443 [==============================] - 136s 307ms/step - loss: 0.0277 - accuracy: 0.6458 - val_loss: 0.0733 - val_accuracy: 0.5818\n",
      "Epoch 3/5\n",
      "443/443 [==============================] - 139s 313ms/step - loss: 0.0276 - accuracy: 0.6462 - val_loss: 0.0746 - val_accuracy: 0.5975\n",
      "Epoch 4/5\n",
      "443/443 [==============================] - 135s 306ms/step - loss: 0.0274 - accuracy: 0.6470 - val_loss: 0.0736 - val_accuracy: 0.5829\n",
      "Epoch 5/5\n",
      "443/443 [==============================] - 134s 302ms/step - loss: 0.0274 - accuracy: 0.6458 - val_loss: 0.0736 - val_accuracy: 0.5862\n",
      "Epoch 1/5\n",
      "443/443 [==============================] - 135s 305ms/step - loss: 0.0272 - accuracy: 0.6463 - val_loss: 0.0747 - val_accuracy: 0.5699\n",
      "Epoch 2/5\n",
      "443/443 [==============================] - 135s 305ms/step - loss: 0.0272 - accuracy: 0.6466 - val_loss: 0.0747 - val_accuracy: 0.5595\n",
      "Epoch 3/5\n",
      "188/443 [===========>..................] - ETA: 1:12 - loss: 0.0268 - accuracy: 0.6498"
     ]
    },
    {
     "ename": "KeyboardInterrupt",
     "evalue": "",
     "output_type": "error",
     "traceback": [
      "\u001B[1;31m---------------------------------------------------------------------------\u001B[0m",
      "\u001B[1;31mKeyboardInterrupt\u001B[0m                         Traceback (most recent call last)",
      "Cell \u001B[1;32mIn[9], line 19\u001B[0m\n\u001B[0;32m     17\u001B[0m batch_size \u001B[38;5;241m=\u001B[39m \u001B[38;5;241m256\u001B[39m\n\u001B[0;32m     18\u001B[0m \u001B[38;5;28;01mfor\u001B[39;00m i \u001B[38;5;129;01min\u001B[39;00m \u001B[38;5;28mrange\u001B[39m(\u001B[38;5;241m20\u001B[39m):\n\u001B[1;32m---> 19\u001B[0m     \u001B[43mmodel\u001B[49m\u001B[38;5;241;43m.\u001B[39;49m\u001B[43mfit\u001B[49m\u001B[43m(\u001B[49m\u001B[43mgenerator\u001B[49m\u001B[43m(\u001B[49m\u001B[43mbatch_size\u001B[49m\u001B[43m)\u001B[49m\u001B[43m,\u001B[49m\u001B[43m \u001B[49m\u001B[43msteps_per_epoch\u001B[49m\u001B[38;5;241;43m=\u001B[39;49m\u001B[43mtrain_length\u001B[49m\u001B[43m \u001B[49m\u001B[38;5;241;43m/\u001B[39;49m\u001B[38;5;241;43m/\u001B[39;49m\u001B[43m \u001B[49m\u001B[43mbatch_size\u001B[49m\u001B[43m,\u001B[49m\u001B[43m \u001B[49m\u001B[43mepochs\u001B[49m\u001B[38;5;241;43m=\u001B[39;49m\u001B[38;5;241;43m5\u001B[39;49m\u001B[43m,\u001B[49m\u001B[43m \u001B[49m\u001B[43mvalidation_data\u001B[49m\u001B[38;5;241;43m=\u001B[39;49m\u001B[43m(\u001B[49m\u001B[43mval_token_list\u001B[49m\u001B[43m,\u001B[49m\u001B[43mval_p_entity_label_list\u001B[49m\u001B[43m)\u001B[49m\u001B[43m)\u001B[49m\n\u001B[0;32m     20\u001B[0m     model\u001B[38;5;241m.\u001B[39msave_weights(\u001B[38;5;124m'\u001B[39m\u001B[38;5;124m../saver/model.h5\u001B[39m\u001B[38;5;124m'\u001B[39m)\n",
      "File \u001B[1;32mE:\\python-virtual-env\\tensorflow\\lib\\site-packages\\keras\\utils\\traceback_utils.py:65\u001B[0m, in \u001B[0;36mfilter_traceback.<locals>.error_handler\u001B[1;34m(*args, **kwargs)\u001B[0m\n\u001B[0;32m     63\u001B[0m filtered_tb \u001B[38;5;241m=\u001B[39m \u001B[38;5;28;01mNone\u001B[39;00m\n\u001B[0;32m     64\u001B[0m \u001B[38;5;28;01mtry\u001B[39;00m:\n\u001B[1;32m---> 65\u001B[0m     \u001B[38;5;28;01mreturn\u001B[39;00m fn(\u001B[38;5;241m*\u001B[39margs, \u001B[38;5;241m*\u001B[39m\u001B[38;5;241m*\u001B[39mkwargs)\n\u001B[0;32m     66\u001B[0m \u001B[38;5;28;01mexcept\u001B[39;00m \u001B[38;5;167;01mException\u001B[39;00m \u001B[38;5;28;01mas\u001B[39;00m e:\n\u001B[0;32m     67\u001B[0m     filtered_tb \u001B[38;5;241m=\u001B[39m _process_traceback_frames(e\u001B[38;5;241m.\u001B[39m__traceback__)\n",
      "File \u001B[1;32mE:\\python-virtual-env\\tensorflow\\lib\\site-packages\\keras\\engine\\training.py:1564\u001B[0m, in \u001B[0;36mModel.fit\u001B[1;34m(self, x, y, batch_size, epochs, verbose, callbacks, validation_split, validation_data, shuffle, class_weight, sample_weight, initial_epoch, steps_per_epoch, validation_steps, validation_batch_size, validation_freq, max_queue_size, workers, use_multiprocessing)\u001B[0m\n\u001B[0;32m   1556\u001B[0m \u001B[38;5;28;01mwith\u001B[39;00m tf\u001B[38;5;241m.\u001B[39mprofiler\u001B[38;5;241m.\u001B[39mexperimental\u001B[38;5;241m.\u001B[39mTrace(\n\u001B[0;32m   1557\u001B[0m     \u001B[38;5;124m\"\u001B[39m\u001B[38;5;124mtrain\u001B[39m\u001B[38;5;124m\"\u001B[39m,\n\u001B[0;32m   1558\u001B[0m     epoch_num\u001B[38;5;241m=\u001B[39mepoch,\n\u001B[1;32m   (...)\u001B[0m\n\u001B[0;32m   1561\u001B[0m     _r\u001B[38;5;241m=\u001B[39m\u001B[38;5;241m1\u001B[39m,\n\u001B[0;32m   1562\u001B[0m ):\n\u001B[0;32m   1563\u001B[0m     callbacks\u001B[38;5;241m.\u001B[39mon_train_batch_begin(step)\n\u001B[1;32m-> 1564\u001B[0m     tmp_logs \u001B[38;5;241m=\u001B[39m \u001B[38;5;28;43mself\u001B[39;49m\u001B[38;5;241;43m.\u001B[39;49m\u001B[43mtrain_function\u001B[49m\u001B[43m(\u001B[49m\u001B[43miterator\u001B[49m\u001B[43m)\u001B[49m\n\u001B[0;32m   1565\u001B[0m     \u001B[38;5;28;01mif\u001B[39;00m data_handler\u001B[38;5;241m.\u001B[39mshould_sync:\n\u001B[0;32m   1566\u001B[0m         context\u001B[38;5;241m.\u001B[39masync_wait()\n",
      "File \u001B[1;32mE:\\python-virtual-env\\tensorflow\\lib\\site-packages\\tensorflow\\python\\util\\traceback_utils.py:150\u001B[0m, in \u001B[0;36mfilter_traceback.<locals>.error_handler\u001B[1;34m(*args, **kwargs)\u001B[0m\n\u001B[0;32m    148\u001B[0m filtered_tb \u001B[38;5;241m=\u001B[39m \u001B[38;5;28;01mNone\u001B[39;00m\n\u001B[0;32m    149\u001B[0m \u001B[38;5;28;01mtry\u001B[39;00m:\n\u001B[1;32m--> 150\u001B[0m   \u001B[38;5;28;01mreturn\u001B[39;00m fn(\u001B[38;5;241m*\u001B[39margs, \u001B[38;5;241m*\u001B[39m\u001B[38;5;241m*\u001B[39mkwargs)\n\u001B[0;32m    151\u001B[0m \u001B[38;5;28;01mexcept\u001B[39;00m \u001B[38;5;167;01mException\u001B[39;00m \u001B[38;5;28;01mas\u001B[39;00m e:\n\u001B[0;32m    152\u001B[0m   filtered_tb \u001B[38;5;241m=\u001B[39m _process_traceback_frames(e\u001B[38;5;241m.\u001B[39m__traceback__)\n",
      "File \u001B[1;32mE:\\python-virtual-env\\tensorflow\\lib\\site-packages\\tensorflow\\python\\eager\\def_function.py:915\u001B[0m, in \u001B[0;36mFunction.__call__\u001B[1;34m(self, *args, **kwds)\u001B[0m\n\u001B[0;32m    912\u001B[0m compiler \u001B[38;5;241m=\u001B[39m \u001B[38;5;124m\"\u001B[39m\u001B[38;5;124mxla\u001B[39m\u001B[38;5;124m\"\u001B[39m \u001B[38;5;28;01mif\u001B[39;00m \u001B[38;5;28mself\u001B[39m\u001B[38;5;241m.\u001B[39m_jit_compile \u001B[38;5;28;01melse\u001B[39;00m \u001B[38;5;124m\"\u001B[39m\u001B[38;5;124mnonXla\u001B[39m\u001B[38;5;124m\"\u001B[39m\n\u001B[0;32m    914\u001B[0m \u001B[38;5;28;01mwith\u001B[39;00m OptionalXlaContext(\u001B[38;5;28mself\u001B[39m\u001B[38;5;241m.\u001B[39m_jit_compile):\n\u001B[1;32m--> 915\u001B[0m   result \u001B[38;5;241m=\u001B[39m \u001B[38;5;28mself\u001B[39m\u001B[38;5;241m.\u001B[39m_call(\u001B[38;5;241m*\u001B[39margs, \u001B[38;5;241m*\u001B[39m\u001B[38;5;241m*\u001B[39mkwds)\n\u001B[0;32m    917\u001B[0m new_tracing_count \u001B[38;5;241m=\u001B[39m \u001B[38;5;28mself\u001B[39m\u001B[38;5;241m.\u001B[39mexperimental_get_tracing_count()\n\u001B[0;32m    918\u001B[0m without_tracing \u001B[38;5;241m=\u001B[39m (tracing_count \u001B[38;5;241m==\u001B[39m new_tracing_count)\n",
      "File \u001B[1;32mE:\\python-virtual-env\\tensorflow\\lib\\site-packages\\tensorflow\\python\\eager\\def_function.py:947\u001B[0m, in \u001B[0;36mFunction._call\u001B[1;34m(self, *args, **kwds)\u001B[0m\n\u001B[0;32m    944\u001B[0m   \u001B[38;5;28mself\u001B[39m\u001B[38;5;241m.\u001B[39m_lock\u001B[38;5;241m.\u001B[39mrelease()\n\u001B[0;32m    945\u001B[0m   \u001B[38;5;66;03m# In this case we have created variables on the first call, so we run the\u001B[39;00m\n\u001B[0;32m    946\u001B[0m   \u001B[38;5;66;03m# defunned version which is guaranteed to never create variables.\u001B[39;00m\n\u001B[1;32m--> 947\u001B[0m   \u001B[38;5;28;01mreturn\u001B[39;00m \u001B[38;5;28mself\u001B[39m\u001B[38;5;241m.\u001B[39m_stateless_fn(\u001B[38;5;241m*\u001B[39margs, \u001B[38;5;241m*\u001B[39m\u001B[38;5;241m*\u001B[39mkwds)  \u001B[38;5;66;03m# pylint: disable=not-callable\u001B[39;00m\n\u001B[0;32m    948\u001B[0m \u001B[38;5;28;01melif\u001B[39;00m \u001B[38;5;28mself\u001B[39m\u001B[38;5;241m.\u001B[39m_stateful_fn \u001B[38;5;129;01mis\u001B[39;00m \u001B[38;5;129;01mnot\u001B[39;00m \u001B[38;5;28;01mNone\u001B[39;00m:\n\u001B[0;32m    949\u001B[0m   \u001B[38;5;66;03m# Release the lock early so that multiple threads can perform the call\u001B[39;00m\n\u001B[0;32m    950\u001B[0m   \u001B[38;5;66;03m# in parallel.\u001B[39;00m\n\u001B[0;32m    951\u001B[0m   \u001B[38;5;28mself\u001B[39m\u001B[38;5;241m.\u001B[39m_lock\u001B[38;5;241m.\u001B[39mrelease()\n",
      "File \u001B[1;32mE:\\python-virtual-env\\tensorflow\\lib\\site-packages\\tensorflow\\python\\eager\\function.py:2496\u001B[0m, in \u001B[0;36mFunction.__call__\u001B[1;34m(self, *args, **kwargs)\u001B[0m\n\u001B[0;32m   2493\u001B[0m \u001B[38;5;28;01mwith\u001B[39;00m \u001B[38;5;28mself\u001B[39m\u001B[38;5;241m.\u001B[39m_lock:\n\u001B[0;32m   2494\u001B[0m   (graph_function,\n\u001B[0;32m   2495\u001B[0m    filtered_flat_args) \u001B[38;5;241m=\u001B[39m \u001B[38;5;28mself\u001B[39m\u001B[38;5;241m.\u001B[39m_maybe_define_function(args, kwargs)\n\u001B[1;32m-> 2496\u001B[0m \u001B[38;5;28;01mreturn\u001B[39;00m \u001B[43mgraph_function\u001B[49m\u001B[38;5;241;43m.\u001B[39;49m\u001B[43m_call_flat\u001B[49m\u001B[43m(\u001B[49m\n\u001B[0;32m   2497\u001B[0m \u001B[43m    \u001B[49m\u001B[43mfiltered_flat_args\u001B[49m\u001B[43m,\u001B[49m\u001B[43m \u001B[49m\u001B[43mcaptured_inputs\u001B[49m\u001B[38;5;241;43m=\u001B[39;49m\u001B[43mgraph_function\u001B[49m\u001B[38;5;241;43m.\u001B[39;49m\u001B[43mcaptured_inputs\u001B[49m\u001B[43m)\u001B[49m\n",
      "File \u001B[1;32mE:\\python-virtual-env\\tensorflow\\lib\\site-packages\\tensorflow\\python\\eager\\function.py:1862\u001B[0m, in \u001B[0;36mConcreteFunction._call_flat\u001B[1;34m(self, args, captured_inputs, cancellation_manager)\u001B[0m\n\u001B[0;32m   1858\u001B[0m possible_gradient_type \u001B[38;5;241m=\u001B[39m gradients_util\u001B[38;5;241m.\u001B[39mPossibleTapeGradientTypes(args)\n\u001B[0;32m   1859\u001B[0m \u001B[38;5;28;01mif\u001B[39;00m (possible_gradient_type \u001B[38;5;241m==\u001B[39m gradients_util\u001B[38;5;241m.\u001B[39mPOSSIBLE_GRADIENT_TYPES_NONE\n\u001B[0;32m   1860\u001B[0m     \u001B[38;5;129;01mand\u001B[39;00m executing_eagerly):\n\u001B[0;32m   1861\u001B[0m   \u001B[38;5;66;03m# No tape is watching; skip to running the function.\u001B[39;00m\n\u001B[1;32m-> 1862\u001B[0m   \u001B[38;5;28;01mreturn\u001B[39;00m \u001B[38;5;28mself\u001B[39m\u001B[38;5;241m.\u001B[39m_build_call_outputs(\u001B[38;5;28;43mself\u001B[39;49m\u001B[38;5;241;43m.\u001B[39;49m\u001B[43m_inference_function\u001B[49m\u001B[38;5;241;43m.\u001B[39;49m\u001B[43mcall\u001B[49m\u001B[43m(\u001B[49m\n\u001B[0;32m   1863\u001B[0m \u001B[43m      \u001B[49m\u001B[43mctx\u001B[49m\u001B[43m,\u001B[49m\u001B[43m \u001B[49m\u001B[43margs\u001B[49m\u001B[43m,\u001B[49m\u001B[43m \u001B[49m\u001B[43mcancellation_manager\u001B[49m\u001B[38;5;241;43m=\u001B[39;49m\u001B[43mcancellation_manager\u001B[49m\u001B[43m)\u001B[49m)\n\u001B[0;32m   1864\u001B[0m forward_backward \u001B[38;5;241m=\u001B[39m \u001B[38;5;28mself\u001B[39m\u001B[38;5;241m.\u001B[39m_select_forward_and_backward_functions(\n\u001B[0;32m   1865\u001B[0m     args,\n\u001B[0;32m   1866\u001B[0m     possible_gradient_type,\n\u001B[0;32m   1867\u001B[0m     executing_eagerly)\n\u001B[0;32m   1868\u001B[0m forward_function, args_with_tangents \u001B[38;5;241m=\u001B[39m forward_backward\u001B[38;5;241m.\u001B[39mforward()\n",
      "File \u001B[1;32mE:\\python-virtual-env\\tensorflow\\lib\\site-packages\\tensorflow\\python\\eager\\function.py:499\u001B[0m, in \u001B[0;36m_EagerDefinedFunction.call\u001B[1;34m(self, ctx, args, cancellation_manager)\u001B[0m\n\u001B[0;32m    497\u001B[0m \u001B[38;5;28;01mwith\u001B[39;00m _InterpolateFunctionError(\u001B[38;5;28mself\u001B[39m):\n\u001B[0;32m    498\u001B[0m   \u001B[38;5;28;01mif\u001B[39;00m cancellation_manager \u001B[38;5;129;01mis\u001B[39;00m \u001B[38;5;28;01mNone\u001B[39;00m:\n\u001B[1;32m--> 499\u001B[0m     outputs \u001B[38;5;241m=\u001B[39m \u001B[43mexecute\u001B[49m\u001B[38;5;241;43m.\u001B[39;49m\u001B[43mexecute\u001B[49m\u001B[43m(\u001B[49m\n\u001B[0;32m    500\u001B[0m \u001B[43m        \u001B[49m\u001B[38;5;28;43mstr\u001B[39;49m\u001B[43m(\u001B[49m\u001B[38;5;28;43mself\u001B[39;49m\u001B[38;5;241;43m.\u001B[39;49m\u001B[43msignature\u001B[49m\u001B[38;5;241;43m.\u001B[39;49m\u001B[43mname\u001B[49m\u001B[43m)\u001B[49m\u001B[43m,\u001B[49m\n\u001B[0;32m    501\u001B[0m \u001B[43m        \u001B[49m\u001B[43mnum_outputs\u001B[49m\u001B[38;5;241;43m=\u001B[39;49m\u001B[38;5;28;43mself\u001B[39;49m\u001B[38;5;241;43m.\u001B[39;49m\u001B[43m_num_outputs\u001B[49m\u001B[43m,\u001B[49m\n\u001B[0;32m    502\u001B[0m \u001B[43m        \u001B[49m\u001B[43minputs\u001B[49m\u001B[38;5;241;43m=\u001B[39;49m\u001B[43margs\u001B[49m\u001B[43m,\u001B[49m\n\u001B[0;32m    503\u001B[0m \u001B[43m        \u001B[49m\u001B[43mattrs\u001B[49m\u001B[38;5;241;43m=\u001B[39;49m\u001B[43mattrs\u001B[49m\u001B[43m,\u001B[49m\n\u001B[0;32m    504\u001B[0m \u001B[43m        \u001B[49m\u001B[43mctx\u001B[49m\u001B[38;5;241;43m=\u001B[39;49m\u001B[43mctx\u001B[49m\u001B[43m)\u001B[49m\n\u001B[0;32m    505\u001B[0m   \u001B[38;5;28;01melse\u001B[39;00m:\n\u001B[0;32m    506\u001B[0m     outputs \u001B[38;5;241m=\u001B[39m execute\u001B[38;5;241m.\u001B[39mexecute_with_cancellation(\n\u001B[0;32m    507\u001B[0m         \u001B[38;5;28mstr\u001B[39m(\u001B[38;5;28mself\u001B[39m\u001B[38;5;241m.\u001B[39msignature\u001B[38;5;241m.\u001B[39mname),\n\u001B[0;32m    508\u001B[0m         num_outputs\u001B[38;5;241m=\u001B[39m\u001B[38;5;28mself\u001B[39m\u001B[38;5;241m.\u001B[39m_num_outputs,\n\u001B[1;32m   (...)\u001B[0m\n\u001B[0;32m    511\u001B[0m         ctx\u001B[38;5;241m=\u001B[39mctx,\n\u001B[0;32m    512\u001B[0m         cancellation_manager\u001B[38;5;241m=\u001B[39mcancellation_manager)\n",
      "File \u001B[1;32mE:\\python-virtual-env\\tensorflow\\lib\\site-packages\\tensorflow\\python\\eager\\execute.py:54\u001B[0m, in \u001B[0;36mquick_execute\u001B[1;34m(op_name, num_outputs, inputs, attrs, ctx, name)\u001B[0m\n\u001B[0;32m     52\u001B[0m \u001B[38;5;28;01mtry\u001B[39;00m:\n\u001B[0;32m     53\u001B[0m   ctx\u001B[38;5;241m.\u001B[39mensure_initialized()\n\u001B[1;32m---> 54\u001B[0m   tensors \u001B[38;5;241m=\u001B[39m \u001B[43mpywrap_tfe\u001B[49m\u001B[38;5;241;43m.\u001B[39;49m\u001B[43mTFE_Py_Execute\u001B[49m\u001B[43m(\u001B[49m\u001B[43mctx\u001B[49m\u001B[38;5;241;43m.\u001B[39;49m\u001B[43m_handle\u001B[49m\u001B[43m,\u001B[49m\u001B[43m \u001B[49m\u001B[43mdevice_name\u001B[49m\u001B[43m,\u001B[49m\u001B[43m \u001B[49m\u001B[43mop_name\u001B[49m\u001B[43m,\u001B[49m\n\u001B[0;32m     55\u001B[0m \u001B[43m                                      \u001B[49m\u001B[43minputs\u001B[49m\u001B[43m,\u001B[49m\u001B[43m \u001B[49m\u001B[43mattrs\u001B[49m\u001B[43m,\u001B[49m\u001B[43m \u001B[49m\u001B[43mnum_outputs\u001B[49m\u001B[43m)\u001B[49m\n\u001B[0;32m     56\u001B[0m \u001B[38;5;28;01mexcept\u001B[39;00m core\u001B[38;5;241m.\u001B[39m_NotOkStatusException \u001B[38;5;28;01mas\u001B[39;00m e:\n\u001B[0;32m     57\u001B[0m   \u001B[38;5;28;01mif\u001B[39;00m name \u001B[38;5;129;01mis\u001B[39;00m \u001B[38;5;129;01mnot\u001B[39;00m \u001B[38;5;28;01mNone\u001B[39;00m:\n",
      "\u001B[1;31mKeyboardInterrupt\u001B[0m: "
     ]
    }
   ],
   "source": [
    "strategy = tf.distribute.MirroredStrategy(devices=[\"/gpu:0\", \"/gpu:1\"],\n",
    "                                          cross_device_ops=tf.distribute.ReductionToOneDevice())\n",
    "with strategy.scope():\n",
    "    input_token = tf.keras.Input(shape=(300,), dtype='int32', name='input_token')\n",
    "    embedding = tf.keras.layers.Embedding(input_dim=21128, output_dim=256)(input_token)\n",
    "    embedding = IDCNN()(embedding)\n",
    "    embedding = tf.keras.layers.BatchNormalization()(embedding)\n",
    "    embedding = tf.keras.layers.Flatten()(embedding)\n",
    "    embedding = tf.keras.layers.Dropout(0.217)(embedding)\n",
    "    output = tf.keras.layers.Dense(32)(embedding)\n",
    "    model = tf.keras.Model(inputs=input_token, outputs=output)\n",
    "    import os\n",
    "    if os.path.exists('../saver/model.h5'):\n",
    "        model.load_weights('../saver/model.h5')\n",
    "    model.compile(optimizer=tf.keras.optimizers.Adam(2.17e-5), loss=tf.nn.sigmoid_cross_entropy_with_logits,\n",
    "                  metrics=['accuracy'])\n",
    "    batch_size = 256\n",
    "    for i in range(20):\n",
    "        model.fit(generator(batch_size), steps_per_epoch=train_length // batch_size, epochs=5, validation_data=(val_token_list,val_p_entity_label_list))\n",
    "        model.save_weights('../saver/model.h5')\n",
    "    "
   ],
   "metadata": {
    "collapsed": false,
    "ExecuteTime": {
     "end_time": "2024-04-03T14:07:33.752829300Z",
     "start_time": "2024-04-03T11:37:30.512422600Z"
    }
   },
   "id": "578aaae3c2c42c2e"
  },
  {
   "cell_type": "code",
   "execution_count": null,
   "outputs": [],
   "source": [],
   "metadata": {
    "collapsed": false,
    "ExecuteTime": {
     "start_time": "2024-04-03T14:07:33.754824600Z"
    }
   },
   "id": "9349076e077bc913"
  }
 ],
 "metadata": {
  "kernelspec": {
   "display_name": "Python 3",
   "language": "python",
   "name": "python3"
  },
  "language_info": {
   "codemirror_mode": {
    "name": "ipython",
    "version": 2
   },
   "file_extension": ".py",
   "mimetype": "text/x-python",
   "name": "python",
   "nbconvert_exporter": "python",
   "pygments_lexer": "ipython2",
   "version": "2.7.6"
  }
 },
 "nbformat": 4,
 "nbformat_minor": 5
}
