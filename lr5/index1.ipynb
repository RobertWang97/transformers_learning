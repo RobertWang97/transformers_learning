{
 "cells": [
  {
   "cell_type": "code",
   "execution_count": 1,
   "id": "initial_id",
   "metadata": {
    "collapsed": true,
    "ExecuteTime": {
     "end_time": "2024-04-04T10:40:34.392344600Z",
     "start_time": "2024-04-04T10:40:33.264569100Z"
    }
   },
   "outputs": [],
   "source": [
    "import json\n",
    "import copy as copy\n",
    "import numpy as np\n",
    "from tqdm import tqdm\n",
    "from transformers import BertModel\n",
    "\n",
    "bert_model = \"E:\\\\hugging_face\\\\bert-base-chinese\"\n",
    "import char_until\n",
    "from transformers import AutoTokenizer\n"
   ]
  },
  {
   "cell_type": "code",
   "execution_count": 2,
   "outputs": [],
   "source": [
    "tokenizer = AutoTokenizer.from_pretrained(bert_model)"
   ],
   "metadata": {
    "collapsed": false,
    "ExecuteTime": {
     "end_time": "2024-04-04T10:40:34.423257600Z",
     "start_time": "2024-04-04T10:40:34.394348500Z"
    }
   },
   "id": "9dc6c2c266f1d3ec"
  },
  {
   "cell_type": "code",
   "execution_count": 3,
   "outputs": [],
   "source": [
    "def search(arr, span):\n",
    "    start_index = -1\n",
    "    span_len = len(span)\n",
    "    for i in range(len(arr)-span_len):\n",
    "        if arr[i:i+span_len] == span:\n",
    "            start_index = i\n",
    "            break\n",
    "    end_index = start_index + len(span)\n",
    "    return start_index, end_index"
   ],
   "metadata": {
    "collapsed": false,
    "ExecuteTime": {
     "end_time": "2024-04-04T10:40:34.455462200Z",
     "start_time": "2024-04-04T10:40:34.425252300Z"
    }
   },
   "id": "8a279146ee721ab3"
  },
  {
   "cell_type": "code",
   "execution_count": 4,
   "outputs": [],
   "source": [
    "p_entitys = ['丈夫', '上映时间', '主持人', '主演', '主角', '作曲', '作者', '作词', '出品公司', '出生地', '出生日期',\n",
    "             '创始人', '制片人', '号', '嘉宾', '国籍', '妻子', '字', '导演', '所属专辑', '改编自', '朝代', '歌手',\n",
    "             '母亲', '毕业院校', '民族', '父亲', '祖籍', '编剧', '董事长', '身高', '连载网站']"
   ],
   "metadata": {
    "collapsed": false,
    "ExecuteTime": {
     "end_time": "2024-04-04T10:40:34.502626600Z",
     "start_time": "2024-04-04T10:40:34.458420Z"
    }
   },
   "id": "f50a5aba268055f"
  },
  {
   "cell_type": "code",
   "execution_count": null,
   "outputs": [
    {
     "name": "stderr",
     "output_type": "stream",
     "text": [
      " 16%|█▌        | 18339/113613 [00:10<00:55, 1731.45it/s]"
     ]
    }
   ],
   "source": [
    "max_length = 300\n",
    "token_list = []\n",
    "label_list = []\n",
    "with open(\"../data/train_data.json\", \"r\", encoding=\"utf-8\") as f:\n",
    "    data = json.load(f)\n",
    "    for line in tqdm(data):\n",
    "        text = line['text']\n",
    "        new_spo_list = line['new_spo_list']\n",
    "        for spo in new_spo_list:\n",
    "            s_entity = spo[\"s\"][\"entity\"]\n",
    "            p_entity = spo[\"p\"][\"entity\"]\n",
    "            o_entity = spo[\"o\"][\"entity\"]\n",
    "            \n",
    "            text_p = p_entity + \"[SEP]\" + text\n",
    "            token = tokenizer.encode(text_p)\n",
    "            label = [0] * len(token)\n",
    "            p_entity_token = p_entitys.index(p_entity)\n",
    "            \n",
    "            s_label = (2 * p_entity_token) - 1\n",
    "            o_label = (2 * p_entity_token)\n",
    "            \n",
    "            s_entity_token = tokenizer.encode(s_entity)[1:-1]\n",
    "            o_entity_token = tokenizer.encode(o_entity)[1:-1]\n",
    "            s_entity_start_index, s_entity_end_index = search(token, s_entity_token)\n",
    "            if s_entity_start_index != -1:\n",
    "                for j in range(s_entity_start_index, s_entity_end_index):\n",
    "                    label[j] = s_label\n",
    "                    \n",
    "            o_entity_start_index, o_entity_end_index = search(token, o_entity_token)\n",
    "            if o_entity_start_index != -1:\n",
    "                for j in range(o_entity_start_index, o_entity_end_index):\n",
    "                    label[j] = o_label\n",
    "                    \n",
    "            token_list.append(token)\n",
    "            label_list.append(label)\n",
    "            \n",
    "                "
   ],
   "metadata": {
    "collapsed": false,
    "is_executing": true,
    "ExecuteTime": {
     "start_time": "2024-04-04T10:40:34.507611700Z"
    }
   },
   "id": "7d8627fc3c7897dc"
  },
  {
   "cell_type": "code",
   "execution_count": null,
   "outputs": [],
   "source": [
    "print(len(token_list), len(label_list))"
   ],
   "metadata": {
    "collapsed": false,
    "is_executing": true
   },
   "id": "eec143af978b1411"
  },
  {
   "cell_type": "code",
   "execution_count": null,
   "outputs": [],
   "source": [
    "import tensorflow as tf\n",
    "from transformers import AutoTokenizer, TFBertModel\n"
   ],
   "metadata": {
    "collapsed": false,
    "is_executing": true
   },
   "id": "a67e23780bb69bf1"
  },
  {
   "cell_type": "code",
   "execution_count": null,
   "outputs": [],
   "source": [
    "strategy = tf.distribute.MirroredStrategy(devices=[\"/gpu:0\", \"/gpu:1\"],\n",
    "                                          cross_device_ops=tf.distribute.ReductionToOneDevice())\n",
    "with strategy.scope():\n",
    "    tokenizer = AutoTokenizer.from_pretrained(bert_model)\n",
    "    model = TFBertModel.from_pretrained(bert_model)\n",
    "    input_token = tf.keras.Input(shape=(max_length,), dtype=tf.int32)\n",
    "    embedding = (model(input_token)[0])\n",
    "    embedding = tf.keras.layers.Dropout(0.217)(embedding)\n",
    "    output = tf.keras.layers.Dense(70, activation=\"softmax\")(embedding)\n",
    "    model = tf.keras.Model(inputs=input_token, outputs=output)\n",
    "    model.compile(optimizer=tf.keras.optimizers.Adam(1e-5), loss=tf.keras.losses.sparse_categorical_crossentropy, metrics=['accuracy'])\n",
    "    import get_data\n",
    "    batch_size = 4\n",
    "    for i in range(20):\n",
    "        model.fit(get_data.generator(batch_size), steps_per_epoch=get_data.train_length//batch_size, epochs=1)\n",
    "        model.save_weights(\"../saver/bert_ner.h5\")"
   ],
   "metadata": {
    "collapsed": false,
    "is_executing": true
   },
   "id": "5e5187035fdee124"
  }
 ],
 "metadata": {
  "kernelspec": {
   "display_name": "Python 3",
   "language": "python",
   "name": "python3"
  },
  "language_info": {
   "codemirror_mode": {
    "name": "ipython",
    "version": 2
   },
   "file_extension": ".py",
   "mimetype": "text/x-python",
   "name": "python",
   "nbconvert_exporter": "python",
   "pygments_lexer": "ipython2",
   "version": "2.7.6"
  }
 },
 "nbformat": 4,
 "nbformat_minor": 5
}
